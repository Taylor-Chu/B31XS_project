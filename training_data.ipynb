{
 "cells": [
  {
   "cell_type": "markdown",
   "metadata": {},
   "source": [
    "# Training Data\n",
    "\n",
    "The training data is generated using real HSC images from the Ultra Deep (UD) field. The ground truth source detection masks are generated using the [scarlet](https://github.com/pmelchior/scarlet) deblender. HSC UD data can be accessed from https://hsc-release.mtk.nao.ac.jp/doc/index.php/tools-2/. We used the public DR2 UD stacks from: https://hsc-release.mtk.nao.ac.jp/archive/filetree/pdr2_dud/deepCoadd-results. The HSC DR2 data is described in [Hiroaki et al. 2019](https://ui.adsabs.harvard.edu/abs/2019PASJ...71..114A/abstract)."
   ]
  },
  {
   "cell_type": "code",
   "execution_count": 1,
   "metadata": {},
   "outputs": [],
   "source": [
    "# In case you need to point to pre-existing scarlet install\n",
    "import sys\n",
    "sys.path.insert(1, '/home/paleo2/.conda/envs/astro-det-scarlet2/lib/python3.7/site-packages/scarlet-1.0.1+gfde109a-py3.7-linux-ppc64le.egg/')"
   ]
  },
  {
   "cell_type": "code",
   "execution_count": 2,
   "metadata": {},
   "outputs": [
    {
     "name": "stdout",
     "output_type": "stream",
     "text": [
      "['/home/yufengl2/astrodet/astrodet', '/home/paleo2/.conda/envs/astro-det-scarlet2/lib/python3.7/site-packages/scarlet-1.0.1+gfde109a-py3.7-linux-ppc64le.egg/', '/home/yufengl2/.conda/envs/astro3/lib/python37.zip', '/home/yufengl2/.conda/envs/astro3/lib/python3.7', '/home/yufengl2/.conda/envs/astro3/lib/python3.7/lib-dynload', '', '/home/yufengl2/.conda/envs/astro3/lib/python3.7/site-packages', '/home/yufengl2/.conda/envs/astro3/lib/python3.7/site-packages/locket-0.2.1-py3.7.egg', '/home/yufengl2/.conda/envs/astro3/lib/python3.7/site-packages/IPython/extensions', '/home/yufengl2/.ipython']\n"
     ]
    }
   ],
   "source": [
    "print(sys.path)"
   ]
  },
  {
   "cell_type": "code",
   "execution_count": 1,
   "metadata": {},
   "outputs": [
    {
     "ename": "ModuleNotFoundError",
     "evalue": "No module named 'sep'",
     "output_type": "error",
     "traceback": [
      "\u001b[0;31m---------------------------------------------------------------------------\u001b[0m",
      "\u001b[0;31mModuleNotFoundError\u001b[0m                       Traceback (most recent call last)",
      "Cell \u001b[0;32mIn [1], line 8\u001b[0m\n\u001b[1;32m      5\u001b[0m \u001b[39mimport\u001b[39;00m \u001b[39mglob\u001b[39;00m\n\u001b[1;32m      7\u001b[0m \u001b[39mimport\u001b[39;00m \u001b[39mscarlet\u001b[39;00m\n\u001b[0;32m----> 8\u001b[0m \u001b[39mimport\u001b[39;00m \u001b[39msep\u001b[39;00m\n\u001b[1;32m     10\u001b[0m \u001b[39mimport\u001b[39;00m \u001b[39mastropy\u001b[39;00m\u001b[39m.\u001b[39;00m\u001b[39mio\u001b[39;00m\u001b[39m.\u001b[39;00m\u001b[39mfits\u001b[39;00m \u001b[39mas\u001b[39;00m \u001b[39mfits\u001b[39;00m\n\u001b[1;32m     11\u001b[0m \u001b[39mfrom\u001b[39;00m \u001b[39mastropy\u001b[39;00m\u001b[39m.\u001b[39;00m\u001b[39mwcs\u001b[39;00m \u001b[39mimport\u001b[39;00m WCS\n",
      "\u001b[0;31mModuleNotFoundError\u001b[0m: No module named 'sep'"
     ]
    }
   ],
   "source": [
    "# Standard imports\n",
    "import sys, os\n",
    "import numpy as np\n",
    "import time\n",
    "import glob\n",
    "\n",
    "import scarlet\n",
    "import sep\n",
    "\n",
    "import astropy.io.fits as fits\n",
    "from astropy.wcs import WCS\n",
    "from astropy.stats import gaussian_fwhm_to_sigma\n",
    "from astropy.coordinates import SkyCoord\n",
    "\n",
    "from scarlet.display import AsinhMapping\n",
    "from astropy.nddata import Cutout2D\n",
    "\n",
    "# Astrodet imports\n",
    "import astrodet.scarlet as sc\n",
    "from astrodet.hsc import get_tract_patch_from_coord, get_hsc_data\n",
    "\n",
    "%matplotlib inline\n",
    "%config InlineBackend.figure_format = 'retina'\n",
    "\n",
    "import matplotlib\n",
    "import matplotlib.pyplot as plt\n",
    "\n",
    "# use a better colormap and don't interpolate the pixels\n",
    "matplotlib.rc('image', cmap='gray', interpolation='none', origin='lower')"
   ]
  },
  {
   "cell_type": "code",
   "execution_count": 4,
   "metadata": {},
   "outputs": [
    {
     "name": "stdout",
     "output_type": "stream",
     "text": [
      "1.0.1+gfde109a\n",
      "1.19.2\n",
      "1.2.0\n"
     ]
    }
   ],
   "source": [
    "# Print the versions to test the imports and so we know what works\n",
    "print(scarlet.__version__)\n",
    "print(np.__version__)\n",
    "print(sep.__version__)"
   ]
  },
  {
   "cell_type": "markdown",
   "metadata": {
    "jp-MarkdownHeadingCollapsed": true,
    "tags": []
   },
   "source": [
    "### Test Scarlet\n",
    "#### You could skip this module\n",
    "\n",
    "First, let's test scarlet using one HSC UD image. The HSC image data is divided into \"tracts\" and \"patches\" on the sky. You can get the HSC image data given any ra, dec using the code below.\n",
    "\n",
    "View HSC tract maps: https://hsc-release.mtk.nao.ac.jp/doc/index.php/data/"
   ]
  },
  {
   "cell_type": "code",
   "execution_count": 5,
   "metadata": {
    "tags": []
   },
   "outputs": [],
   "source": [
    "filters = ['g', 'r', 'i']\n",
    "\n",
    "# Input coordinate\n",
    "c = SkyCoord(151.3816, 2.5854, unit='deg')\n",
    "\n",
    "def generate_training_data_example(c, dirpath='./data/hsc', plot_image=False, plot_stretch_Q=False, plot_scene=True,\n",
    "                                   plot_likelihood=False, write_results=False, cutout_size=[1024, 1024]):\n",
    "    \"\"\"\n",
    "    Parameters\n",
    "    ----------\n",
    "    c : SkyCoord object\n",
    "          The ra, dec pointing (single or lists of pointings)\n",
    "    plot_image : bool\n",
    "          Whether or not to plot the image\n",
    "    plot_stretch_Q : bool\n",
    "          Whether or not to plot different normalizations of your image using the stretch, Q parameters.\n",
    "    plot_scene : bool\n",
    "           Whether or not plot scene with scarlet\n",
    "    plot_likelihood : bool\n",
    "           Whether or not plot the log likelihood of the scarlet fitting\n",
    "    write_results : bool\n",
    "          Whether or not to write results to FITS file\n",
    "    cutout_size : [int, int]\n",
    "          Cutout shape of image\n",
    "          \n",
    "    Returns\n",
    "    -------\n",
    "    The scarlet image test in FITS files.\n",
    "    \n",
    "    \"\"\"\n",
    "    \n",
    "    # Get the tract, patch\n",
    "    tract, patch = get_tract_patch_from_coord(c)\n",
    "    print('\\nTract, patch from coord:', tract, patch, \"\\n\")\n",
    "\n",
    "    # Point to the HSC data directory\n",
    "    hsc_dirpath = '/home/paleo2/ASTRODET/HSC/hsc-release.mtk.nao.ac.jp/archive/filetree/pdr2_dud/deepCoadd-results/'\n",
    "\n",
    "    # Get the HSC data from the file info\n",
    "    # If you want a cutout centered a coordinate, you must pass the coord argument directly into get_hsc_data\n",
    "    # Otherwise, you can provide patch and tract and the cutout will be centered on the patch image center\n",
    "\n",
    "    # Warning: Wall time is O(N^3), where N is the image length or width\n",
    "    datas = get_hsc_data(dirpath=hsc_dirpath, filters=filters, coord=c, cutout_size=cutout_size)\n",
    "\n",
    "    # Plot image data\n",
    "    if plot_image:\n",
    "        fig, ax = plt.subplots(1, 1, figsize=(9,9))\n",
    "        norm = scarlet.display.AsinhMapping(minimum=0, stretch=1, Q=5)\n",
    "        img_rgb = scarlet.display.img_to_rgb(datas, norm=norm)\n",
    "        ax.imshow(img_rgb)\n",
    "        ax.axis('off')\n",
    "\n",
    "    # Find good stretch and Q\n",
    "    if plot_stretch_Q: fig = sc.plot_stretch_Q(datas);\n",
    "\n",
    "    ### Run scarlet on image ###\n",
    "\n",
    "    # HSC pixel scale in arcsec/pixel\n",
    "    ps = 0.17\n",
    "    # Approximate PSF size in UD field according to HSC DR2 paper is 0.8 arcsec\n",
    "    sigma_obs = gaussian_fwhm_to_sigma*0.8/ps\n",
    "    print(f'\\nsigma_obs: {np.around(sigma_obs, 2)} pixels.')\n",
    "    \n",
    "    # Run Scarlet\n",
    "    out = sc.run_scarlet(datas, filters, sigma_model=1, sigma_obs=sigma_obs, plot_scene=plot_scene,\n",
    "                         max_chi2=1000000, morph_thresh=0.001, starlet_thresh=0.01, stretch=1, Q=5, \n",
    "                         plot_wavelet=False, plot_likelihood=plot_likelihood, plot_sources=False, add_ellipses=True,\n",
    "                         add_labels=False, add_boxes=False, lvl_segmask=2, maskthresh=0.025)\n",
    "\n",
    "    # Unpack output\n",
    "    observation, starlet_sources, model_frame, catalog, catalog_deblended, segmentation_masks = out\n",
    "\n",
    "    # Save Scarlet data to FITS file\n",
    "    if write_results:\n",
    "        filenames = sc.write_scarlet_results(datas, observation, starlet_sources, model_frame, \n",
    "                                             catalog_deblended, segmentation_masks, dirpath=dirpath, \n",
    "                                             filters=filters, s=f'{tract}-{patch[0]},{patch[1]}')\n",
    "    \n",
    "        print(f'\\nSaved scarlet results as {filenames} \\n')"
   ]
  },
  {
   "cell_type": "code",
   "execution_count": 6,
   "metadata": {
    "collapsed": true,
    "jupyter": {
     "outputs_hidden": true
    },
    "tags": []
   },
   "outputs": [
    {
     "name": "stdout",
     "output_type": "stream",
     "text": [
      "\n",
      "Tract, patch from coord: 9814 (6, 6) \n",
      "\n",
      "Overriding tract/patch info and looking for HSC file at requested coordinates.\n",
      "Loading \"/home/paleo2/ASTRODET/HSC/hsc-release.mtk.nao.ac.jp/archive/filetree/pdr2_dud/deepCoadd-results/HSC-G/9814/6,6/calexp-HSC-G-9814-6,6.fits\".\n",
      "Loading \"/home/paleo2/ASTRODET/HSC/hsc-release.mtk.nao.ac.jp/archive/filetree/pdr2_dud/deepCoadd-results/HSC-R/9814/6,6/calexp-HSC-R-9814-6,6.fits\".\n",
      "Loading \"/home/paleo2/ASTRODET/HSC/hsc-release.mtk.nao.ac.jp/archive/filetree/pdr2_dud/deepCoadd-results/HSC-I/9814/6,6/calexp-HSC-I-9814-6,6.fits\".\n",
      "\n",
      "sigma_obs: 2.0 pixels.\n"
     ]
    },
    {
     "ename": "KeyboardInterrupt",
     "evalue": "",
     "output_type": "error",
     "traceback": [
      "\u001b[0;31m---------------------------------------------------------------------------\u001b[0m",
      "\u001b[0;31mKeyboardInterrupt\u001b[0m                         Traceback (most recent call last)",
      "\u001b[0;32m<timed eval>\u001b[0m in \u001b[0;36m<module>\u001b[0;34m\u001b[0m\n",
      "\u001b[0;32m<ipython-input-5-f0fb2a5e3d73>\u001b[0m in \u001b[0;36mgenerate_training_data_example\u001b[0;34m(c, dirpath, plot_image, plot_stretch_Q, plot_scene, plot_likelihood, write_results, cutout_size)\u001b[0m\n\u001b[1;32m     67\u001b[0m                          \u001b[0mmax_chi2\u001b[0m\u001b[0;34m=\u001b[0m\u001b[0;36m1000000\u001b[0m\u001b[0;34m,\u001b[0m \u001b[0mmorph_thresh\u001b[0m\u001b[0;34m=\u001b[0m\u001b[0;36m0.001\u001b[0m\u001b[0;34m,\u001b[0m \u001b[0mstarlet_thresh\u001b[0m\u001b[0;34m=\u001b[0m\u001b[0;36m0.01\u001b[0m\u001b[0;34m,\u001b[0m \u001b[0mstretch\u001b[0m\u001b[0;34m=\u001b[0m\u001b[0;36m1\u001b[0m\u001b[0;34m,\u001b[0m \u001b[0mQ\u001b[0m\u001b[0;34m=\u001b[0m\u001b[0;36m5\u001b[0m\u001b[0;34m,\u001b[0m\u001b[0;34m\u001b[0m\u001b[0m\n\u001b[1;32m     68\u001b[0m                          \u001b[0mplot_wavelet\u001b[0m\u001b[0;34m=\u001b[0m\u001b[0;32mFalse\u001b[0m\u001b[0;34m,\u001b[0m \u001b[0mplot_likelihood\u001b[0m\u001b[0;34m=\u001b[0m\u001b[0mplot_likelihood\u001b[0m\u001b[0;34m,\u001b[0m \u001b[0mplot_sources\u001b[0m\u001b[0;34m=\u001b[0m\u001b[0;32mFalse\u001b[0m\u001b[0;34m,\u001b[0m \u001b[0madd_ellipses\u001b[0m\u001b[0;34m=\u001b[0m\u001b[0;32mTrue\u001b[0m\u001b[0;34m,\u001b[0m\u001b[0;34m\u001b[0m\u001b[0m\n\u001b[0;32m---> 69\u001b[0;31m                          add_labels=False, add_boxes=False, lvl_segmask=2, maskthresh=0.025)\n\u001b[0m\u001b[1;32m     70\u001b[0m \u001b[0;34m\u001b[0m\u001b[0m\n\u001b[1;32m     71\u001b[0m     \u001b[0;31m# Unpack output\u001b[0m\u001b[0;34m\u001b[0m\u001b[0;34m\u001b[0m\u001b[0m\n",
      "\u001b[0;32m~/astrodet/astrodet/astrodet/scarlet.py\u001b[0m in \u001b[0;36mrun_scarlet\u001b[0;34m(datas, filters, stretch, Q, sigma_model, sigma_obs, subtract_background, max_chi2, max_iters, morph_thresh, starlet_thresh, lvl, lvl_segmask, maskthresh, segmentation_map, plot_wavelet, plot_likelihood, plot_scene, plot_sources, add_ellipses, add_labels, add_boxes)\u001b[0m\n\u001b[1;32m    461\u001b[0m \u001b[0;34m\u001b[0m\u001b[0m\n\u001b[1;32m    462\u001b[0m     \u001b[0;31m# Generate source catalog using wavelets\u001b[0m\u001b[0;34m\u001b[0m\u001b[0;34m\u001b[0m\u001b[0m\n\u001b[0;32m--> 463\u001b[0;31m     \u001b[0mcatalog\u001b[0m\u001b[0;34m,\u001b[0m \u001b[0mbg_rms_hsc\u001b[0m \u001b[0;34m=\u001b[0m \u001b[0mmake_catalog\u001b[0m\u001b[0;34m(\u001b[0m\u001b[0mdatas\u001b[0m\u001b[0;34m,\u001b[0m \u001b[0mlvl\u001b[0m\u001b[0;34m,\u001b[0m \u001b[0mwave\u001b[0m\u001b[0;34m=\u001b[0m\u001b[0;32mTrue\u001b[0m\u001b[0;34m)\u001b[0m\u001b[0;34m\u001b[0m\u001b[0m\n\u001b[0m\u001b[1;32m    464\u001b[0m     \u001b[0;31m# If image is already background subtracted, weights are set to 1\u001b[0m\u001b[0;34m\u001b[0m\u001b[0;34m\u001b[0m\u001b[0m\n\u001b[1;32m    465\u001b[0m     \u001b[0;32mif\u001b[0m \u001b[0msubtract_background\u001b[0m\u001b[0;34m:\u001b[0m\u001b[0;34m\u001b[0m\u001b[0m\n",
      "\u001b[0;32m~/astrodet/astrodet/astrodet/scarlet.py\u001b[0m in \u001b[0;36mmake_catalog\u001b[0;34m(datas, lvl, wave, segmentation_map, maskthresh, object_limit)\u001b[0m\n\u001b[1;32m    241\u001b[0m     \u001b[0;32melse\u001b[0m\u001b[0;34m:\u001b[0m\u001b[0;34m\u001b[0m\u001b[0m\n\u001b[1;32m    242\u001b[0m         \u001b[0;32mif\u001b[0m \u001b[0mwave\u001b[0m\u001b[0;34m:\u001b[0m\u001b[0;34m\u001b[0m\u001b[0m\n\u001b[0;32m--> 243\u001b[0;31m             \u001b[0mwave_detect\u001b[0m \u001b[0;34m=\u001b[0m \u001b[0mscarlet\u001b[0m\u001b[0;34m.\u001b[0m\u001b[0mStarlet\u001b[0m\u001b[0;34m(\u001b[0m\u001b[0mdetect_image\u001b[0m\u001b[0;34m)\u001b[0m\u001b[0;34m.\u001b[0m\u001b[0mcoefficients\u001b[0m\u001b[0;34m\u001b[0m\u001b[0m\n\u001b[0m\u001b[1;32m    244\u001b[0m             \u001b[0mdetect\u001b[0m \u001b[0;34m=\u001b[0m \u001b[0mwave_detect\u001b[0m\u001b[0;34m[\u001b[0m\u001b[0;36m0\u001b[0m\u001b[0;34m]\u001b[0m\u001b[0;34m[\u001b[0m\u001b[0;36m0\u001b[0m\u001b[0;34m]\u001b[0m \u001b[0;34m+\u001b[0m \u001b[0mwave_detect\u001b[0m\u001b[0;34m[\u001b[0m\u001b[0;36m0\u001b[0m\u001b[0;34m]\u001b[0m\u001b[0;34m[\u001b[0m\u001b[0;36m1\u001b[0m\u001b[0;34m]\u001b[0m \u001b[0;34m+\u001b[0m \u001b[0mwave_detect\u001b[0m\u001b[0;34m[\u001b[0m\u001b[0;36m0\u001b[0m\u001b[0;34m]\u001b[0m\u001b[0;34m[\u001b[0m\u001b[0;36m2\u001b[0m\u001b[0;34m]\u001b[0m\u001b[0;34m\u001b[0m\u001b[0m\n\u001b[1;32m    245\u001b[0m         \u001b[0;32melse\u001b[0m\u001b[0;34m:\u001b[0m\u001b[0;34m\u001b[0m\u001b[0m\n",
      "\u001b[0;32m/home/paleo2/.conda/envs/astro-det-scarlet2/lib/python3.7/site-packages/scarlet-1.0.1+gfde109a-py3.7-linux-ppc64le.egg/scarlet/wavelet.py\u001b[0m in \u001b[0;36mcoefficients\u001b[0;34m(self)\u001b[0m\n\u001b[1;32m     99\u001b[0m         \u001b[0;34m\"\"\"Starlet coefficients\"\"\"\u001b[0m\u001b[0;34m\u001b[0m\u001b[0m\n\u001b[1;32m    100\u001b[0m         \u001b[0;32mif\u001b[0m \u001b[0mself\u001b[0m\u001b[0;34m.\u001b[0m\u001b[0m_direct\u001b[0m \u001b[0;34m==\u001b[0m \u001b[0;32mTrue\u001b[0m\u001b[0;34m:\u001b[0m\u001b[0;34m\u001b[0m\u001b[0m\n\u001b[0;32m--> 101\u001b[0;31m             \u001b[0mself\u001b[0m\u001b[0;34m.\u001b[0m\u001b[0m_coeffs\u001b[0m \u001b[0;34m=\u001b[0m \u001b[0mself\u001b[0m\u001b[0;34m.\u001b[0m\u001b[0mdirect_transform\u001b[0m\u001b[0;34m(\u001b[0m\u001b[0;34m)\u001b[0m\u001b[0;34m\u001b[0m\u001b[0m\n\u001b[0m\u001b[1;32m    102\u001b[0m         \u001b[0;32melse\u001b[0m\u001b[0;34m:\u001b[0m\u001b[0;34m\u001b[0m\u001b[0m\n\u001b[1;32m    103\u001b[0m             \u001b[0mself\u001b[0m\u001b[0;34m.\u001b[0m\u001b[0m_coeffs\u001b[0m \u001b[0;34m=\u001b[0m \u001b[0mself\u001b[0m\u001b[0;34m.\u001b[0m\u001b[0mtransform\u001b[0m\u001b[0;34m(\u001b[0m\u001b[0;34m)\u001b[0m\u001b[0;34m\u001b[0m\u001b[0m\n",
      "\u001b[0;32m/home/paleo2/.conda/envs/astro-det-scarlet2/lib/python3.7/site-packages/scarlet-1.0.1+gfde109a-py3.7-linux-ppc64le.egg/scarlet/wavelet.py\u001b[0m in \u001b[0;36mdirect_transform\u001b[0;34m(self)\u001b[0m\n\u001b[1;32m    165\u001b[0m             \u001b[0mthe\u001b[0m \u001b[0mstarlet\u001b[0m \u001b[0mtransform\u001b[0m \u001b[0mof\u001b[0m \u001b[0mthe\u001b[0m \u001b[0mStarlet\u001b[0m \u001b[0mobject\u001b[0m\u001b[0;31m'\u001b[0m\u001b[0ms\u001b[0m \u001b[0mimage\u001b[0m\u001b[0;34m\u001b[0m\u001b[0m\n\u001b[1;32m    166\u001b[0m         \"\"\"\n\u001b[0;32m--> 167\u001b[0;31m         \u001b[0;32mreturn\u001b[0m \u001b[0mmk_starlet\u001b[0m\u001b[0;34m(\u001b[0m\u001b[0mself\u001b[0m\u001b[0;34m.\u001b[0m\u001b[0m_starlet_shape\u001b[0m\u001b[0;34m,\u001b[0m \u001b[0mself\u001b[0m\u001b[0;34m.\u001b[0m\u001b[0m_image\u001b[0m\u001b[0;34m)\u001b[0m\u001b[0;34m\u001b[0m\u001b[0m\n\u001b[0m\u001b[1;32m    168\u001b[0m \u001b[0;34m\u001b[0m\u001b[0m\n\u001b[1;32m    169\u001b[0m     \u001b[0;32mdef\u001b[0m \u001b[0m__len__\u001b[0m\u001b[0;34m(\u001b[0m\u001b[0mself\u001b[0m\u001b[0;34m)\u001b[0m\u001b[0;34m:\u001b[0m\u001b[0;34m\u001b[0m\u001b[0m\n",
      "\u001b[0;32m/home/paleo2/.conda/envs/astro-det-scarlet2/lib/python3.7/site-packages/scarlet-1.0.1+gfde109a-py3.7-linux-ppc64le.egg/scarlet/wavelet.py\u001b[0m in \u001b[0;36mmk_starlet\u001b[0;34m(shape, image)\u001b[0m\n\u001b[1;32m    248\u001b[0m             \u001b[0mwave\u001b[0m \u001b[0;34m=\u001b[0m \u001b[0;34m[\u001b[0m\u001b[0;34m]\u001b[0m\u001b[0;34m\u001b[0m\u001b[0m\n\u001b[1;32m    249\u001b[0m             \u001b[0;32mfor\u001b[0m \u001b[0mim\u001b[0m \u001b[0;32min\u001b[0m \u001b[0mimage\u001b[0m\u001b[0;34m:\u001b[0m\u001b[0;34m\u001b[0m\u001b[0m\n\u001b[0;32m--> 250\u001b[0;31m                 \u001b[0mwave\u001b[0m\u001b[0;34m.\u001b[0m\u001b[0mappend\u001b[0m\u001b[0;34m(\u001b[0m\u001b[0mmk_starlet\u001b[0m\u001b[0;34m(\u001b[0m\u001b[0mshape\u001b[0m\u001b[0;34m,\u001b[0m \u001b[0mim\u001b[0m\u001b[0;34m)\u001b[0m\u001b[0;34m)\u001b[0m\u001b[0;34m\u001b[0m\u001b[0m\n\u001b[0m\u001b[1;32m    251\u001b[0m             \u001b[0;32mreturn\u001b[0m \u001b[0mnp\u001b[0m\u001b[0;34m.\u001b[0m\u001b[0marray\u001b[0m\u001b[0;34m(\u001b[0m\u001b[0mwave\u001b[0m\u001b[0;34m)\u001b[0m\u001b[0;34m\u001b[0m\u001b[0m\n\u001b[1;32m    252\u001b[0m         \u001b[0;32melse\u001b[0m\u001b[0;34m:\u001b[0m\u001b[0;34m\u001b[0m\u001b[0m\n",
      "\u001b[0;32m/home/paleo2/.conda/envs/astro-det-scarlet2/lib/python3.7/site-packages/scarlet-1.0.1+gfde109a-py3.7-linux-ppc64le.egg/scarlet/wavelet.py\u001b[0m in \u001b[0;36mmk_starlet\u001b[0;34m(shape, image)\u001b[0m\n\u001b[1;32m    266\u001b[0m \u001b[0;34m\u001b[0m\u001b[0m\n\u001b[1;32m    267\u001b[0m         \u001b[0;31m# Column convolution\u001b[0m\u001b[0;34m\u001b[0m\u001b[0;34m\u001b[0m\u001b[0m\n\u001b[0;32m--> 268\u001b[0;31m         \u001b[0mcnew\u001b[0m \u001b[0;34m=\u001b[0m \u001b[0mfft\u001b[0m\u001b[0;34m.\u001b[0m\u001b[0mconvolve\u001b[0m\u001b[0;34m(\u001b[0m\u001b[0mcnew\u001b[0m\u001b[0;34m,\u001b[0m \u001b[0mnewhT\u001b[0m\u001b[0;34m,\u001b[0m \u001b[0maxes\u001b[0m\u001b[0;34m=\u001b[0m\u001b[0;34m[\u001b[0m\u001b[0;36m1\u001b[0m\u001b[0;34m]\u001b[0m\u001b[0;34m)\u001b[0m\u001b[0;34m\u001b[0m\u001b[0m\n\u001b[0m\u001b[1;32m    269\u001b[0m \u001b[0;34m\u001b[0m\u001b[0m\n\u001b[1;32m    270\u001b[0m         \u001b[0;31m###### hoh for g; Column convolution\u001b[0m\u001b[0;34m\u001b[0m\u001b[0;34m\u001b[0m\u001b[0m\n",
      "\u001b[0;32m/home/paleo2/.conda/envs/astro-det-scarlet2/lib/python3.7/site-packages/scarlet-1.0.1+gfde109a-py3.7-linux-ppc64le.egg/scarlet/fft.py\u001b[0m in \u001b[0;36mconvolve\u001b[0;34m(image, kernel, padding, axes, return_Fourier)\u001b[0m\n\u001b[1;32m    389\u001b[0m \u001b[0;34m\u001b[0m\u001b[0m\n\u001b[1;32m    390\u001b[0m     convolved = _kspace_operation(\n\u001b[0;32m--> 391\u001b[0;31m         \u001b[0mimage\u001b[0m\u001b[0;34m,\u001b[0m \u001b[0mkernel\u001b[0m\u001b[0;34m,\u001b[0m \u001b[0mpadding\u001b[0m\u001b[0;34m,\u001b[0m \u001b[0moperator\u001b[0m\u001b[0;34m.\u001b[0m\u001b[0mmul\u001b[0m\u001b[0;34m,\u001b[0m \u001b[0mimage\u001b[0m\u001b[0;34m.\u001b[0m\u001b[0mshape\u001b[0m\u001b[0;34m,\u001b[0m \u001b[0maxes\u001b[0m\u001b[0;34m=\u001b[0m\u001b[0maxes\u001b[0m\u001b[0;34m\u001b[0m\u001b[0m\n\u001b[0m\u001b[1;32m    392\u001b[0m     )\n\u001b[1;32m    393\u001b[0m     \u001b[0;32mif\u001b[0m \u001b[0mreturn_Fourier\u001b[0m\u001b[0;34m:\u001b[0m\u001b[0;34m\u001b[0m\u001b[0m\n",
      "\u001b[0;32m/home/paleo2/.conda/envs/astro-det-scarlet2/lib/python3.7/site-packages/scarlet-1.0.1+gfde109a-py3.7-linux-ppc64le.egg/scarlet/fft.py\u001b[0m in \u001b[0;36m_kspace_operation\u001b[0;34m(image1, image2, padding, op, shape, axes)\u001b[0m\n\u001b[1;32m    329\u001b[0m     \u001b[0mtransformed_fft\u001b[0m \u001b[0;34m=\u001b[0m \u001b[0mop\u001b[0m\u001b[0;34m(\u001b[0m\u001b[0mimage1\u001b[0m\u001b[0;34m.\u001b[0m\u001b[0mfft\u001b[0m\u001b[0;34m(\u001b[0m\u001b[0mfft_shape\u001b[0m\u001b[0;34m,\u001b[0m \u001b[0maxes\u001b[0m\u001b[0;34m)\u001b[0m\u001b[0;34m,\u001b[0m \u001b[0mimage2\u001b[0m\u001b[0;34m.\u001b[0m\u001b[0mfft\u001b[0m\u001b[0;34m(\u001b[0m\u001b[0mfft_shape\u001b[0m\u001b[0;34m,\u001b[0m \u001b[0maxes\u001b[0m\u001b[0;34m)\u001b[0m\u001b[0;34m)\u001b[0m\u001b[0;34m\u001b[0m\u001b[0m\n\u001b[1;32m    330\u001b[0m     \u001b[0;31m# why is shape not image1.shape? images are never padded\u001b[0m\u001b[0;34m\u001b[0m\u001b[0;34m\u001b[0m\u001b[0m\n\u001b[0;32m--> 331\u001b[0;31m     \u001b[0;32mreturn\u001b[0m \u001b[0mFourier\u001b[0m\u001b[0;34m.\u001b[0m\u001b[0mfrom_fft\u001b[0m\u001b[0;34m(\u001b[0m\u001b[0mtransformed_fft\u001b[0m\u001b[0;34m,\u001b[0m \u001b[0mfft_shape\u001b[0m\u001b[0;34m,\u001b[0m \u001b[0mshape\u001b[0m\u001b[0;34m,\u001b[0m \u001b[0maxes\u001b[0m\u001b[0;34m)\u001b[0m\u001b[0;34m\u001b[0m\u001b[0m\n\u001b[0m\u001b[1;32m    332\u001b[0m \u001b[0;34m\u001b[0m\u001b[0m\n\u001b[1;32m    333\u001b[0m \u001b[0;34m\u001b[0m\u001b[0m\n",
      "\u001b[0;32m/home/paleo2/.conda/envs/astro-det-scarlet2/lib/python3.7/site-packages/scarlet-1.0.1+gfde109a-py3.7-linux-ppc64le.egg/scarlet/fft.py\u001b[0m in \u001b[0;36mfrom_fft\u001b[0;34m(image_fft, fft_shape, image_shape, axes)\u001b[0m\n\u001b[1;32m    233\u001b[0m             \u001b[0maxes\u001b[0m \u001b[0;34m=\u001b[0m \u001b[0mrange\u001b[0m\u001b[0;34m(\u001b[0m\u001b[0mlen\u001b[0m\u001b[0;34m(\u001b[0m\u001b[0mimage_fft\u001b[0m\u001b[0;34m)\u001b[0m\u001b[0;34m)\u001b[0m\u001b[0;34m\u001b[0m\u001b[0m\n\u001b[1;32m    234\u001b[0m         \u001b[0mall_axes\u001b[0m \u001b[0;34m=\u001b[0m \u001b[0mrange\u001b[0m\u001b[0;34m(\u001b[0m\u001b[0mlen\u001b[0m\u001b[0;34m(\u001b[0m\u001b[0mimage_shape\u001b[0m\u001b[0;34m)\u001b[0m\u001b[0;34m)\u001b[0m\u001b[0;34m\u001b[0m\u001b[0m\n\u001b[0;32m--> 235\u001b[0;31m         \u001b[0mimage\u001b[0m \u001b[0;34m=\u001b[0m \u001b[0mnp\u001b[0m\u001b[0;34m.\u001b[0m\u001b[0mfft\u001b[0m\u001b[0;34m.\u001b[0m\u001b[0mirfftn\u001b[0m\u001b[0;34m(\u001b[0m\u001b[0mimage_fft\u001b[0m\u001b[0;34m,\u001b[0m \u001b[0mfft_shape\u001b[0m\u001b[0;34m,\u001b[0m \u001b[0maxes\u001b[0m\u001b[0;34m=\u001b[0m\u001b[0maxes\u001b[0m\u001b[0;34m)\u001b[0m\u001b[0;34m\u001b[0m\u001b[0m\n\u001b[0m\u001b[1;32m    236\u001b[0m         \u001b[0;31m# Shift the center of the image from the bottom left to the center\u001b[0m\u001b[0;34m\u001b[0m\u001b[0;34m\u001b[0m\u001b[0m\n\u001b[1;32m    237\u001b[0m         \u001b[0mimage\u001b[0m \u001b[0;34m=\u001b[0m \u001b[0mnp\u001b[0m\u001b[0;34m.\u001b[0m\u001b[0mfft\u001b[0m\u001b[0;34m.\u001b[0m\u001b[0mfftshift\u001b[0m\u001b[0;34m(\u001b[0m\u001b[0mimage\u001b[0m\u001b[0;34m,\u001b[0m \u001b[0maxes\u001b[0m\u001b[0;34m=\u001b[0m\u001b[0maxes\u001b[0m\u001b[0;34m)\u001b[0m\u001b[0;34m\u001b[0m\u001b[0m\n",
      "\u001b[0;32m~/.conda/envs/astro3/lib/python3.7/site-packages/autograd/tracer.py\u001b[0m in \u001b[0;36mf_wrapped\u001b[0;34m(*args, **kwargs)\u001b[0m\n\u001b[1;32m     46\u001b[0m             \u001b[0;32mreturn\u001b[0m \u001b[0mnew_box\u001b[0m\u001b[0;34m(\u001b[0m\u001b[0mans\u001b[0m\u001b[0;34m,\u001b[0m \u001b[0mtrace\u001b[0m\u001b[0;34m,\u001b[0m \u001b[0mnode\u001b[0m\u001b[0;34m)\u001b[0m\u001b[0;34m\u001b[0m\u001b[0m\n\u001b[1;32m     47\u001b[0m         \u001b[0;32melse\u001b[0m\u001b[0;34m:\u001b[0m\u001b[0;34m\u001b[0m\u001b[0m\n\u001b[0;32m---> 48\u001b[0;31m             \u001b[0;32mreturn\u001b[0m \u001b[0mf_raw\u001b[0m\u001b[0;34m(\u001b[0m\u001b[0;34m*\u001b[0m\u001b[0margs\u001b[0m\u001b[0;34m,\u001b[0m \u001b[0;34m**\u001b[0m\u001b[0mkwargs\u001b[0m\u001b[0;34m)\u001b[0m\u001b[0;34m\u001b[0m\u001b[0m\n\u001b[0m\u001b[1;32m     49\u001b[0m     \u001b[0mf_wrapped\u001b[0m\u001b[0;34m.\u001b[0m\u001b[0mfun\u001b[0m \u001b[0;34m=\u001b[0m \u001b[0mf_raw\u001b[0m\u001b[0;34m\u001b[0m\u001b[0m\n\u001b[1;32m     50\u001b[0m     \u001b[0mf_wrapped\u001b[0m\u001b[0;34m.\u001b[0m\u001b[0m_is_autograd_primitive\u001b[0m \u001b[0;34m=\u001b[0m \u001b[0;32mTrue\u001b[0m\u001b[0;34m\u001b[0m\u001b[0m\n",
      "\u001b[0;32m<__array_function__ internals>\u001b[0m in \u001b[0;36mirfftn\u001b[0;34m(*args, **kwargs)\u001b[0m\n",
      "\u001b[0;32m~/.conda/envs/astro3/lib/python3.7/site-packages/numpy/fft/_pocketfft.py\u001b[0m in \u001b[0;36mirfftn\u001b[0;34m(a, s, axes, norm)\u001b[0m\n\u001b[1;32m   1263\u001b[0m     \u001b[0;32mfor\u001b[0m \u001b[0mii\u001b[0m \u001b[0;32min\u001b[0m \u001b[0mrange\u001b[0m\u001b[0;34m(\u001b[0m\u001b[0mlen\u001b[0m\u001b[0;34m(\u001b[0m\u001b[0maxes\u001b[0m\u001b[0;34m)\u001b[0m\u001b[0;34m-\u001b[0m\u001b[0;36m1\u001b[0m\u001b[0;34m)\u001b[0m\u001b[0;34m:\u001b[0m\u001b[0;34m\u001b[0m\u001b[0m\n\u001b[1;32m   1264\u001b[0m         \u001b[0ma\u001b[0m \u001b[0;34m=\u001b[0m \u001b[0mifft\u001b[0m\u001b[0;34m(\u001b[0m\u001b[0ma\u001b[0m\u001b[0;34m,\u001b[0m \u001b[0ms\u001b[0m\u001b[0;34m[\u001b[0m\u001b[0mii\u001b[0m\u001b[0;34m]\u001b[0m\u001b[0;34m,\u001b[0m \u001b[0maxes\u001b[0m\u001b[0;34m[\u001b[0m\u001b[0mii\u001b[0m\u001b[0;34m]\u001b[0m\u001b[0;34m,\u001b[0m \u001b[0mnorm\u001b[0m\u001b[0;34m)\u001b[0m\u001b[0;34m\u001b[0m\u001b[0m\n\u001b[0;32m-> 1265\u001b[0;31m     \u001b[0ma\u001b[0m \u001b[0;34m=\u001b[0m \u001b[0mirfft\u001b[0m\u001b[0;34m(\u001b[0m\u001b[0ma\u001b[0m\u001b[0;34m,\u001b[0m \u001b[0ms\u001b[0m\u001b[0;34m[\u001b[0m\u001b[0;34m-\u001b[0m\u001b[0;36m1\u001b[0m\u001b[0;34m]\u001b[0m\u001b[0;34m,\u001b[0m \u001b[0maxes\u001b[0m\u001b[0;34m[\u001b[0m\u001b[0;34m-\u001b[0m\u001b[0;36m1\u001b[0m\u001b[0;34m]\u001b[0m\u001b[0;34m,\u001b[0m \u001b[0mnorm\u001b[0m\u001b[0;34m)\u001b[0m\u001b[0;34m\u001b[0m\u001b[0m\n\u001b[0m\u001b[1;32m   1266\u001b[0m     \u001b[0;32mreturn\u001b[0m \u001b[0ma\u001b[0m\u001b[0;34m\u001b[0m\u001b[0m\n\u001b[1;32m   1267\u001b[0m \u001b[0;34m\u001b[0m\u001b[0m\n",
      "\u001b[0;32m<__array_function__ internals>\u001b[0m in \u001b[0;36mirfft\u001b[0;34m(*args, **kwargs)\u001b[0m\n",
      "\u001b[0;32m~/.conda/envs/astro3/lib/python3.7/site-packages/numpy/fft/_pocketfft.py\u001b[0m in \u001b[0;36mirfft\u001b[0;34m(a, n, axis, norm)\u001b[0m\n\u001b[1;32m    469\u001b[0m     \u001b[0;32mif\u001b[0m \u001b[0mnorm\u001b[0m \u001b[0;32mis\u001b[0m \u001b[0;32mnot\u001b[0m \u001b[0;32mNone\u001b[0m \u001b[0;32mand\u001b[0m \u001b[0m_unitary\u001b[0m\u001b[0;34m(\u001b[0m\u001b[0mnorm\u001b[0m\u001b[0;34m)\u001b[0m\u001b[0;34m:\u001b[0m\u001b[0;34m\u001b[0m\u001b[0m\n\u001b[1;32m    470\u001b[0m         \u001b[0minv_norm\u001b[0m \u001b[0;34m=\u001b[0m \u001b[0msqrt\u001b[0m\u001b[0;34m(\u001b[0m\u001b[0mn\u001b[0m\u001b[0;34m)\u001b[0m\u001b[0;34m\u001b[0m\u001b[0m\n\u001b[0;32m--> 471\u001b[0;31m     \u001b[0moutput\u001b[0m \u001b[0;34m=\u001b[0m \u001b[0m_raw_fft\u001b[0m\u001b[0;34m(\u001b[0m\u001b[0ma\u001b[0m\u001b[0;34m,\u001b[0m \u001b[0mn\u001b[0m\u001b[0;34m,\u001b[0m \u001b[0maxis\u001b[0m\u001b[0;34m,\u001b[0m \u001b[0;32mTrue\u001b[0m\u001b[0;34m,\u001b[0m \u001b[0;32mFalse\u001b[0m\u001b[0;34m,\u001b[0m \u001b[0minv_norm\u001b[0m\u001b[0;34m)\u001b[0m\u001b[0;34m\u001b[0m\u001b[0m\n\u001b[0m\u001b[1;32m    472\u001b[0m     \u001b[0;32mreturn\u001b[0m \u001b[0moutput\u001b[0m\u001b[0;34m\u001b[0m\u001b[0m\n\u001b[1;32m    473\u001b[0m \u001b[0;34m\u001b[0m\u001b[0m\n",
      "\u001b[0;32m~/.conda/envs/astro3/lib/python3.7/site-packages/numpy/fft/_pocketfft.py\u001b[0m in \u001b[0;36m_raw_fft\u001b[0;34m(a, n, axis, is_real, is_forward, inv_norm)\u001b[0m\n\u001b[1;32m     72\u001b[0m \u001b[0;34m\u001b[0m\u001b[0m\n\u001b[1;32m     73\u001b[0m     \u001b[0;32mif\u001b[0m \u001b[0maxis\u001b[0m \u001b[0;34m==\u001b[0m \u001b[0ma\u001b[0m\u001b[0;34m.\u001b[0m\u001b[0mndim\u001b[0m\u001b[0;34m-\u001b[0m\u001b[0;36m1\u001b[0m\u001b[0;34m:\u001b[0m\u001b[0;34m\u001b[0m\u001b[0m\n\u001b[0;32m---> 74\u001b[0;31m         \u001b[0mr\u001b[0m \u001b[0;34m=\u001b[0m \u001b[0mpfi\u001b[0m\u001b[0;34m.\u001b[0m\u001b[0mexecute\u001b[0m\u001b[0;34m(\u001b[0m\u001b[0ma\u001b[0m\u001b[0;34m,\u001b[0m \u001b[0mis_real\u001b[0m\u001b[0;34m,\u001b[0m \u001b[0mis_forward\u001b[0m\u001b[0;34m,\u001b[0m \u001b[0mfct\u001b[0m\u001b[0;34m)\u001b[0m\u001b[0;34m\u001b[0m\u001b[0m\n\u001b[0m\u001b[1;32m     75\u001b[0m     \u001b[0;32melse\u001b[0m\u001b[0;34m:\u001b[0m\u001b[0;34m\u001b[0m\u001b[0m\n\u001b[1;32m     76\u001b[0m         \u001b[0ma\u001b[0m \u001b[0;34m=\u001b[0m \u001b[0mswapaxes\u001b[0m\u001b[0;34m(\u001b[0m\u001b[0ma\u001b[0m\u001b[0;34m,\u001b[0m \u001b[0maxis\u001b[0m\u001b[0;34m,\u001b[0m \u001b[0;34m-\u001b[0m\u001b[0;36m1\u001b[0m\u001b[0;34m)\u001b[0m\u001b[0;34m\u001b[0m\u001b[0m\n",
      "\u001b[0;31mKeyboardInterrupt\u001b[0m: "
     ]
    }
   ],
   "source": [
    "%%time\n",
    "\n",
    "generate_training_data_example(c=c, plot_scene=True, plot_likelihood=True, cutout_size=[1025, 1025], write_results=True)"
   ]
  },
  {
   "cell_type": "markdown",
   "metadata": {
    "jp-MarkdownHeadingCollapsed": true,
    "tags": []
   },
   "source": [
    "### Crowded Field Examples\n",
    "#### You could also skip this module\n",
    "\n",
    "Let's show a few more examples in some crowded fields we chose by eye. We can use multiprocessing to speed-up the results."
   ]
  },
  {
   "cell_type": "code",
   "execution_count": null,
   "metadata": {
    "tags": []
   },
   "outputs": [],
   "source": [
    "import multiprocessing\n",
    "processes = 20"
   ]
  },
  {
   "cell_type": "code",
   "execution_count": null,
   "metadata": {
    "collapsed": true,
    "jupyter": {
     "outputs_hidden": true
    },
    "tags": []
   },
   "outputs": [
    {
     "ename": "NameError",
     "evalue": "name 'generate_training_data_example' is not defined",
     "output_type": "error",
     "traceback": [
      "\u001b[0;31m---------------------------------------------------------------------------\u001b[0m",
      "\u001b[0;31mNameError\u001b[0m                                 Traceback (most recent call last)",
      "\u001b[0;32m<ipython-input-14-23ab22ce824d>\u001b[0m in \u001b[0;36m<module>\u001b[0;34m\u001b[0m\n\u001b[1;32m      6\u001b[0m \u001b[0;31m# Pool each image to a CPU\u001b[0m\u001b[0;34m\u001b[0m\u001b[0;34m\u001b[0m\u001b[0m\n\u001b[1;32m      7\u001b[0m \u001b[0;32mwith\u001b[0m \u001b[0mmultiprocessing\u001b[0m\u001b[0;34m.\u001b[0m\u001b[0mPool\u001b[0m\u001b[0;34m(\u001b[0m\u001b[0mprocesses\u001b[0m\u001b[0;34m=\u001b[0m\u001b[0mprocesses\u001b[0m\u001b[0;34m)\u001b[0m \u001b[0;32mas\u001b[0m \u001b[0mpool\u001b[0m\u001b[0;34m:\u001b[0m\u001b[0;34m\u001b[0m\u001b[0m\n\u001b[0;32m----> 8\u001b[0;31m     \u001b[0mresults\u001b[0m \u001b[0;34m=\u001b[0m \u001b[0mpool\u001b[0m\u001b[0;34m.\u001b[0m\u001b[0mmap\u001b[0m\u001b[0;34m(\u001b[0m\u001b[0mgenerate_training_data_example\u001b[0m\u001b[0;34m,\u001b[0m \u001b[0mexamples_coords\u001b[0m\u001b[0;34m)\u001b[0m\u001b[0;34m\u001b[0m\u001b[0m\n\u001b[0m",
      "\u001b[0;31mNameError\u001b[0m: name 'generate_training_data_example' is not defined"
     ]
    }
   ],
   "source": [
    "ras = [149.9234, 149.8460, 149.9244, 150.4154, 151.2481, 150.1958, 148.4212, 150.7502]\n",
    "decs = [3.0282, 2.8791, 3.0290, 2.4298, 1.8747, 1.6495, 1.5768, 2.3446]\n",
    "\n",
    "examples_coords = SkyCoord(ras, decs, unit='deg')\n",
    "\n",
    "# Pool each image to a CPU\n",
    "with multiprocessing.Pool(processes=processes) as pool:\n",
    "    results = pool.map(generate_training_data_example, examples_coords)"
   ]
  },
  {
   "cell_type": "markdown",
   "metadata": {},
   "source": [
    "### Generate training data\n",
    "\n",
    "Now that we are satisfied with the results, let's split the tracts and patches into test, training, and validation datatsets.\n",
    "\n",
    "The function below is similar to the one shown above, but will split up each 4K CCD into chunks before running scarlet in the usual fashion."
   ]
  },
  {
   "cell_type": "code",
   "execution_count": 5,
   "metadata": {},
   "outputs": [],
   "source": [
    "def run_scarlet_training(filename, dirpath='./data/hsc', filters=['g', 'r', 'i'], nblocks=4):\n",
    "    \"\"\"\n",
    "    Description.\n",
    "    \n",
    "    \"\"\"\n",
    "    \n",
    "    from skimage.util.shape import view_as_blocks\n",
    "    \n",
    "    # Get the filter\n",
    "    f = filename.split(f'calexp-HSC-')[1][0]\n",
    "\n",
    "    # HSC pixel scale in arcsec/pixel\n",
    "    ps = 0.17\n",
    "    # Approximate PSF size in UD field according to HSC DR2 paper is 0.8 arcsec\n",
    "    sigma_obs = gaussian_fwhm_to_sigma*0.8/ps\n",
    "\n",
    "    # Point to the HSC data directory\n",
    "    hsc_dirpath = '/home/paleo2/ASTRODET/HSC/hsc-release.mtk.nao.ac.jp/archive/filetree/pdr2_dud/deepCoadd-results/'\n",
    "\n",
    "    # Get tract, patch from filename\n",
    "    s = filename.split(f'calexp-HSC-{f}-')[1].split('.fits')[0]\n",
    "    tract, patch = s.split('-')\n",
    "    patch = tuple(map(int, patch.split(',')))\n",
    "\n",
    "    # Get the HSC data from the file info\n",
    "    datas = get_hsc_data(dirpath=hsc_dirpath, filters=filters, tract=tract, patch=patch, coord=None, cutout_size=None)\n",
    "\n",
    "    # Split into blocks\n",
    "    nfilters = len(filters)\n",
    "    block_size = [datas.shape[1]//nblocks, datas.shape[2]//nblocks]\n",
    "        \n",
    "    datas_blocks = view_as_blocks(datas, block_shape=(nfilters, block_size[0], block_size[1]))\n",
    "    datas_blocks = datas_blocks.reshape(nblocks**2, nfilters, block_size[0], block_size[1])\n",
    "    \n",
    "    for i in range(datas_blocks.shape[0]):\n",
    "        \n",
    "        # Get the data block\n",
    "        datas = datas_blocks[i,:,:,:]\n",
    "\n",
    "        # Run Scarlet\n",
    "        out = sc.run_scarlet(datas, filters, sigma_model=1, sigma_obs=sigma_obs, plot_scene=True,\n",
    "                             max_chi2=1000000, morph_thresh=0.001, starlet_thresh=0.01, stretch=1, Q=5,\n",
    "                             plot_wavelet=False, plot_likelihood=False, plot_sources=False, add_ellipses=True,\n",
    "                             add_labels=False, add_boxes=False, lvl = 2, lvl_segmask=5, maskthresh=0.025)\n",
    "\n",
    "        # Unpack output\n",
    "        observation, starlet_sources, model_frame, catalog, catalog_deblended, segmentation_masks = out\n",
    "\n",
    "        filenames = sc.write_scarlet_results(datas, observation, starlet_sources, model_frame,\n",
    "                                             catalog_deblended, segmentation_masks, dirpath=dirpath,\n",
    "                                             filters=filters, s=f'{tract}-{patch[0]},{patch[1]}-c{i}')\n",
    "\n",
    "        print(f'\\nSaved scarlet results as {filenames} \\n')"
   ]
  },
  {
   "cell_type": "markdown",
   "metadata": {},
   "source": [
    "#### Define some custom settings"
   ]
  },
  {
   "cell_type": "code",
   "execution_count": 6,
   "metadata": {},
   "outputs": [
    {
     "name": "stdout",
     "output_type": "stream",
     "text": [
      "320\n"
     ]
    }
   ],
   "source": [
    "# Point to the HSC data directory\n",
    "import multiprocessing\n",
    "hsc_dirpath = '/home/paleo2/ASTRODET/HSC/hsc-release.mtk.nao.ac.jp/archive/filetree/pdr2_dud/deepCoadd-results/'\n",
    "\n",
    "# Output directory\n",
    "dirpath = './data/hsc/'\n",
    "\n",
    "# Filters to use\n",
    "filters = ['g', 'r', 'i']\n",
    "\n",
    "# Training, test, and validation dataset ratios\n",
    "ratios = [1, 0.2, 0.2]\n",
    "\n",
    "# Number of CPU processes\n",
    "processes = multiprocessing.cpu_count() * 2 \n",
    "\n",
    "# Shuffle file order or keep the same?\n",
    "shuffle_files = True # Set to False for reproducable order\n",
    "print(processes)"
   ]
  },
  {
   "cell_type": "markdown",
   "metadata": {},
   "source": [
    "#### Split up the dataset"
   ]
  },
  {
   "cell_type": "code",
   "execution_count": 7,
   "metadata": {},
   "outputs": [],
   "source": [
    "import glob\n",
    "\n",
    "# Normalize ratios to sum to 1\n",
    "ratios = ratios / np.sum(ratios)\n",
    "\n",
    "# Get all HSC data\n",
    "f = filters[0]\n",
    "f = f.upper()\n",
    "\n",
    "files = glob.glob(os.path.join(hsc_dirpath, f'HSC-{f}/**/**/calexp-HSC-{f}-*.fits'), recursive=True)\n",
    "\n",
    "if shuffle_files:\n",
    "    # Randomize file order (for testing)\n",
    "    np.random.shuffle(files)\n",
    "else:\n",
    "    # Reproducable file order (for production)\n",
    "    files = sorted(files)\n",
    "\n",
    "# Split dataset into training, validation, and test subsets using ratios\n",
    "ln = len(files)\n",
    "i_train = int(np.floor(ln*ratios[0]))\n",
    "i_val = int(np.floor(ln*ratios[1]))\n",
    "i_test = int(np.floor(ln*ratios[1]))\n",
    "\n",
    "# Split using index\n",
    "files_val = files[:i_val]\n",
    "files_test = files[i_val:i_val + i_test]\n",
    "files_train = files[i_val + i_test:]\n",
    "\n",
    "##### Test with a small number #####\n",
    "#files_train = files_train[:1]\n",
    "#files_test = files_test[:1]\n",
    "#####################################"
   ]
  },
  {
   "cell_type": "code",
   "execution_count": 8,
   "metadata": {},
   "outputs": [
    {
     "data": {
      "text/plain": [
       "list"
      ]
     },
     "execution_count": 8,
     "metadata": {},
     "output_type": "execute_result"
    }
   ],
   "source": [
    "# View the filenames\n",
    "type(files_train)"
   ]
  },
  {
   "cell_type": "markdown",
   "metadata": {},
   "source": [
    "#### Run Scarlet in parallel for each dataset"
   ]
  },
  {
   "cell_type": "code",
   "execution_count": null,
   "metadata": {},
   "outputs": [
    {
     "name": "stdout",
     "output_type": "stream",
     "text": [
      "Running train\n",
      "Loading \"/home/paleo2/ASTRODET/HSC/hsc-release.mtk.nao.ac.jp/archive/filetree/pdr2_dud/deepCoadd-results/HSC-G/17131/7,7/calexp-HSC-G-17131-7,7.fits\".Loading \"/home/paleo2/ASTRODET/HSC/hsc-release.mtk.nao.ac.jp/archive/filetree/pdr2_dud/deepCoadd-results/HSC-G/9570/3,5/calexp-HSC-G-9570-3,5.fits\".Loading \"/home/paleo2/ASTRODET/HSC/hsc-release.mtk.nao.ac.jp/archive/filetree/pdr2_dud/deepCoadd-results/HSC-G/9813/6,2/calexp-HSC-G-9813-6,2.fits\".\n",
      "\n",
      "\n",
      "Loading \"/home/paleo2/ASTRODET/HSC/hsc-release.mtk.nao.ac.jp/archive/filetree/pdr2_dud/deepCoadd-results/HSC-G/9464/6,6/calexp-HSC-G-9464-6,6.fits\".\n",
      "Loading \"/home/paleo2/ASTRODET/HSC/hsc-release.mtk.nao.ac.jp/archive/filetree/pdr2_dud/deepCoadd-results/HSC-R/17131/7,7/calexp-HSC-R-17131-7,7.fits\".\n",
      "Loading \"/home/paleo2/ASTRODET/HSC/hsc-release.mtk.nao.ac.jp/archive/filetree/pdr2_dud/deepCoadd-results/HSC-R/9813/6,2/calexp-HSC-R-9813-6,2.fits\".\n",
      "Loading \"/home/paleo2/ASTRODET/HSC/hsc-release.mtk.nao.ac.jp/archive/filetree/pdr2_dud/deepCoadd-results/HSC-R/9464/6,6/calexp-HSC-R-9464-6,6.fits\".\n",
      "Loading \"/home/paleo2/ASTRODET/HSC/hsc-release.mtk.nao.ac.jp/archive/filetree/pdr2_dud/deepCoadd-results/HSC-R/9570/3,5/calexp-HSC-R-9570-3,5.fits\".\n",
      "Loading \"/home/paleo2/ASTRODET/HSC/hsc-release.mtk.nao.ac.jp/archive/filetree/pdr2_dud/deepCoadd-results/HSC-I/9813/6,2/calexp-HSC-I-9813-6,2.fits\".\n",
      "Loading \"/home/paleo2/ASTRODET/HSC/hsc-release.mtk.nao.ac.jp/archive/filetree/pdr2_dud/deepCoadd-results/HSC-I/17131/7,7/calexp-HSC-I-17131-7,7.fits\".\n",
      "Loading \"/home/paleo2/ASTRODET/HSC/hsc-release.mtk.nao.ac.jp/archive/filetree/pdr2_dud/deepCoadd-results/HSC-I/9570/3,5/calexp-HSC-I-9570-3,5.fits\".\n",
      "Loading \"/home/paleo2/ASTRODET/HSC/hsc-release.mtk.nao.ac.jp/archive/filetree/pdr2_dud/deepCoadd-results/HSC-I/9464/6,6/calexp-HSC-I-9464-6,6.fits\".\n",
      "Source catalog found  1407 objects\n",
      "Initializing starlet sources to be fit.\n",
      "Source catalog found  881 objects\n",
      "Source catalog found  1172 objects\n",
      "Initializing starlet sources to be fit.\n",
      "Source catalog found  693 objects\n",
      "Initializing starlet sources to be fit.\n",
      "Initializing starlet sources to be fit.\n"
     ]
    }
   ],
   "source": [
    "import multiprocessing\n",
    "from itertools import repeat\n",
    "# Sub-directories for each dataset\n",
    "dataset_names = ['train', 'test', 'val']\n",
    "dirpaths_write = [os.path.join(dirpath, d) for d in dataset_names]\n",
    "def testrun(arg):\n",
    "    print(arg)\n",
    "# Run scarlet on training and test datasets\n",
    "for i, f in enumerate([files_train, files_test]): # TODO: Add validation dataset\n",
    "\n",
    "    #print(f'Running {dataset_names[i]} with files:\\n{f}')\n",
    "    print(f'Running {dataset_names[i]}')\n",
    "\n",
    "    args = zip(f, repeat(dirpaths_write[i]))\n",
    "\n",
    "    # Pool each image to a CPU\n",
    "    with multiprocessing.Pool(processes=4) as pool:\n",
    "        results = pool.starmap(run_scarlet_training, args)"
   ]
  },
  {
   "cell_type": "code",
   "execution_count": null,
   "metadata": {},
   "outputs": [],
   "source": [
    "# Make the directory readable for other users\n",
    "!chmod -R 777 ./data/hsc"
   ]
  },
  {
   "cell_type": "code",
   "execution_count": null,
   "metadata": {},
   "outputs": [],
   "source": [
    "import multiprocessing\n",
    "import itertools\n",
    "\n",
    "def run(args):\n",
    "    query, cursor = args\n",
    "    print(\"running\", query, cursor)\n",
    "\n",
    "queries = [\"foo\", \"bar\", \"blub\"]\n",
    "cursor = \"whatever\"\n",
    "for i in range(2):\n",
    "    args = zip(queries, repeat(cursor))\n",
    "    with multiprocessing.Pool(processes=10) as pool:\n",
    "        results = pool.map(run, args)"
   ]
  },
  {
   "cell_type": "code",
   "execution_count": null,
   "metadata": {},
   "outputs": [],
   "source": []
  }
 ],
 "metadata": {
  "kernelspec": {
   "display_name": "Python 3.10.8 ('b31xs': conda)",
   "language": "python",
   "name": "python3"
  },
  "language_info": {
   "codemirror_mode": {
    "name": "ipython",
    "version": 3
   },
   "file_extension": ".py",
   "mimetype": "text/x-python",
   "name": "python",
   "nbconvert_exporter": "python",
   "pygments_lexer": "ipython3",
   "version": "3.10.8 (main, Nov 24 2022, 14:13:03) [GCC 11.2.0]"
  },
  "vscode": {
   "interpreter": {
    "hash": "ce007cff931e13a5302a5a230a1f3d5a861ca4dfbc101beab926b56f1d39f896"
   }
  }
 },
 "nbformat": 4,
 "nbformat_minor": 4
}
